{
 "cells": [
  {
   "cell_type": "code",
   "execution_count": 8,
   "metadata": {
    "colab": {},
    "colab_type": "code",
    "id": "wYtuKeK0dImp"
   },
   "outputs": [],
   "source": [
    "import csv\n",
    "import numpy as np\n",
    "import tensorflow as tf\n",
    "from tensorflow.keras.preprocessing.image import ImageDataGenerator"
   ]
  },
  {
   "cell_type": "markdown",
   "metadata": {
    "colab_type": "text",
    "id": "EmMyh9_mkDHF"
   },
   "source": [
    "The data for this exercise is available at: https://www.kaggle.com/datamunge/sign-language-mnist/home\n",
    "\n",
    "Sign up and download to find 2 CSV files: sign_mnist_test.csv and sign_mnist_train.csv -- You will upload both of them using this button before you can continue.\n"
   ]
  },
  {
   "cell_type": "code",
   "execution_count": 9,
   "metadata": {
    "colab": {
     "base_uri": "https://localhost:8080/",
     "height": 85
    },
    "colab_type": "code",
    "id": "4kxw-_rmcnVu",
    "outputId": "9208ba8c-3152-4508-d6c4-9a242786a09a"
   },
   "outputs": [
    {
     "name": "stdout",
     "output_type": "stream",
     "text": [
      "(27455, 28, 28)\n",
      "(27455,)\n",
      "(7172, 28, 28)\n",
      "(7172,)\n"
     ]
    }
   ],
   "source": [
    "def get_data(filename):\n",
    "    with open(filename) as training_file:\n",
    "        reader = csv.reader(training_file, delimiter=',')    \n",
    "        imgs = []\n",
    "        labels = []\n",
    "\n",
    "        next(reader, None)\n",
    "        \n",
    "        for row in reader:\n",
    "            label = row[0]\n",
    "            data = row[1:]\n",
    "            img = np.array(data).reshape((28, 28))\n",
    "\n",
    "            imgs.append(img)\n",
    "            labels.append(label)\n",
    "\n",
    "        images = np.array(imgs).astype(float)\n",
    "        labels = np.array(labels).astype(float)\n",
    "            \n",
    "    return images, labels\n",
    "\n",
    "\n",
    "training_images, training_labels = get_data('C:/Users/forea/Tensorflow/sign_mnist_train.csv')\n",
    "testing_images, testing_labels = get_data('C:/Users/forea/Tensorflow/sign_mnist_test.csv')\n",
    "\n",
    "# Keep these\n",
    "print(training_images.shape)\n",
    "print(training_labels.shape)\n",
    "print(testing_images.shape)\n",
    "print(testing_labels.shape)\n",
    "\n",
    "# Their output should be:\n",
    "# (27455, 28, 28)\n",
    "# (27455,)\n",
    "# (7172, 28, 28)\n",
    "# (7172,)"
   ]
  },
  {
   "cell_type": "code",
   "execution_count": 10,
   "metadata": {
    "colab": {
     "base_uri": "https://localhost:8080/",
     "height": 51
    },
    "colab_type": "code",
    "id": "awoqRpyZdQkD",
    "outputId": "7186d921-13cd-4320-8a92-4bab0625e9a5"
   },
   "outputs": [
    {
     "name": "stdout",
     "output_type": "stream",
     "text": [
      "(27455, 28, 28, 1)\n",
      "(7172, 28, 28, 1)\n"
     ]
    }
   ],
   "source": [
    "# In this section you will have to add another dimension to the data\n",
    "# So, for example, if your array is (10000, 28, 28)\n",
    "# You will need to make it (10000, 28, 28, 1)\n",
    "# Hint: np.expand_dims\n",
    "\n",
    "training_images = np.expand_dims(training_images, axis=3) # 배열에 차원을 추가\n",
    "testing_images = np.expand_dims(testing_images, axis=3)\n",
    "\n",
    "# Create an ImageDataGenerator and do Image Augmentation\n",
    "train_datagen = ImageDataGenerator(\n",
    "    rescale=1. / 255,\n",
    "    rotation_range=40,\n",
    "    width_shift_range=0.2,\n",
    "    height_shift_range=0.2,\n",
    "    shear_range=0.2,\n",
    "    zoom_range=0.2,\n",
    "    horizontal_flip=True,\n",
    "    fill_mode='nearest'\n",
    ")\n",
    "\n",
    "validation_datagen = ImageDataGenerator(\n",
    "    rescale=1 / 255\n",
    ")\n",
    "    \n",
    "# Keep These\n",
    "print(training_images.shape)\n",
    "print(testing_images.shape)\n",
    "    \n",
    "# Their output should be:\n",
    "# (27455, 28, 28, 1)\n",
    "# (7172, 28, 28, 1)"
   ]
  },
  {
   "cell_type": "code",
   "execution_count": null,
   "metadata": {
    "colab": {
     "base_uri": "https://localhost:8080/",
     "height": 731
    },
    "colab_type": "code",
    "id": "Rmb7S32cgRqS",
    "outputId": "09381dcc-1033-4d07-da3f-839223e3a2aa"
   },
   "outputs": [
    {
     "name": "stdout",
     "output_type": "stream",
     "text": [
      "WARNING:tensorflow:From <ipython-input-11-92c3f75a1769>:37: Model.fit_generator (from tensorflow.python.keras.engine.training) is deprecated and will be removed in a future version.\n",
      "Instructions for updating:\n",
      "Please use Model.fit, which supports generators.\n",
      "Epoch 1/20\n",
      "429/429 [==============================] - 16s 37ms/step - loss: 2.7771 - accuracy: 0.1600 - val_loss: 1.9333 - val_accuracy: 0.3872\n",
      "Epoch 2/20\n",
      "429/429 [==============================] - 15s 36ms/step - loss: 2.1172 - accuracy: 0.3345 - val_loss: 1.5745 - val_accuracy: 0.4470\n",
      "Epoch 3/20\n",
      "429/429 [==============================] - 15s 36ms/step - loss: 1.7352 - accuracy: 0.4407 - val_loss: 1.0738 - val_accuracy: 0.6523\n",
      "Epoch 4/20\n",
      "429/429 [==============================] - 15s 36ms/step - loss: 1.4915 - accuracy: 0.5130 - val_loss: 1.0225 - val_accuracy: 0.6400\n",
      "Epoch 5/20\n",
      "429/429 [==============================] - 15s 36ms/step - loss: 1.3106 - accuracy: 0.5701 - val_loss: 0.8589 - val_accuracy: 0.6832\n",
      "Epoch 6/20\n",
      "429/429 [==============================] - 15s 36ms/step - loss: 1.1535 - accuracy: 0.6215 - val_loss: 0.7221 - val_accuracy: 0.7497\n",
      "Epoch 7/20\n",
      "429/429 [==============================] - 15s 36ms/step - loss: 1.0308 - accuracy: 0.6606 - val_loss: 0.6677 - val_accuracy: 0.7577\n",
      "Epoch 8/20\n",
      "429/429 [==============================] - 15s 36ms/step - loss: 0.9299 - accuracy: 0.6924 - val_loss: 0.5430 - val_accuracy: 0.7955\n",
      "Epoch 9/20\n",
      "429/429 [==============================] - 15s 36ms/step - loss: 0.8583 - accuracy: 0.7170 - val_loss: 0.4876 - val_accuracy: 0.8172\n",
      "Epoch 10/20\n",
      "429/429 [==============================] - 19s 45ms/step - loss: 0.7940 - accuracy: 0.7364 - val_loss: 0.4625 - val_accuracy: 0.8243\n",
      "Epoch 11/20\n",
      "429/429 [==============================] - 17s 40ms/step - loss: 0.7309 - accuracy: 0.7607 - val_loss: 0.4272 - val_accuracy: 0.8420\n",
      "Epoch 12/20\n",
      "429/429 [==============================] - 16s 38ms/step - loss: 0.6842 - accuracy: 0.7742 - val_loss: 0.3938 - val_accuracy: 0.8699\n",
      "Epoch 13/20\n",
      "150/429 [=========>....................] - ETA: 9s - loss: 0.6511 - accuracy: 0.7829"
     ]
    }
   ],
   "source": [
    "# Define the model\n",
    "# Use no more than 2 Conv2D and 2 MaxPooling2D\n",
    "model = tf.keras.models.Sequential([\n",
    "    tf.keras.layers.Conv2D(32, (3,3), activation='relu', input_shape=(28, 28, 1)),\n",
    "    tf.keras.layers.MaxPooling2D(2,2),\n",
    "    tf.keras.layers.Conv2D(32, (3,3), activation='relu'),\n",
    "    tf.keras.layers.MaxPooling2D(2,2),\n",
    "    tf.keras.layers.Flatten(),\n",
    "    tf.keras.layers.Dense(512, activation='relu'),\n",
    "    tf.keras.layers.Dense(26, activation='softmax')\n",
    "])\n",
    "\n",
    "# Compile Model. \n",
    "model.compile(\n",
    "    optimizer='adam',\n",
    "    loss='sparse_categorical_crossentropy',\n",
    "    metrics=['accuracy']\n",
    ")\n",
    "\n",
    "# Configure generators\n",
    "train_gen = train_datagen.flow(\n",
    "    training_images,\n",
    "    training_labels,\n",
    "    batch_size=64\n",
    ")\n",
    "\n",
    "val_gen = validation_datagen.flow(\n",
    "    testing_images,\n",
    "    testing_labels,\n",
    "    batch_size=64\n",
    ")\n",
    "\n",
    "# Train the Model\n",
    "history = model.fit_generator(\n",
    "    train_gen,\n",
    "    epochs=20,\n",
    "    validation_data=val_gen\n",
    ")\n",
    "\n",
    "model.evaluate(testing_images, testing_labels)\n",
    "    \n",
    "# Baseline\n",
    "# [Loss, accuracy]\n",
    "[6.92426086682151, 0.56609035]\n"
   ]
  },
  {
   "cell_type": "code",
   "execution_count": null,
   "metadata": {
    "colab": {
     "base_uri": "https://localhost:8080/",
     "height": 545
    },
    "colab_type": "code",
    "id": "_Q3Zpr46dsij",
    "outputId": "0a299685-1a1a-4364-83c9-1c473e62d3ae"
   },
   "outputs": [],
   "source": [
    "# Plot the chart for accuracy and loss on both training and validation\n",
    "\n",
    "import matplotlib.pyplot as plt\n",
    "\n",
    "acc = history.history['acc']\n",
    "val_acc = history.history['val_acc']\n",
    "loss = history.history['loss']\n",
    "val_loss = history.history['val_loss']\n",
    "\n",
    "epochs = range(len(acc))\n",
    "\n",
    "plt.plot(epochs, acc, 'r', label='Training accuracy')\n",
    "plt.plot(epochs, val_acc, 'b', label='Validation accuracy')\n",
    "plt.title('Training and validation accuracy')\n",
    "plt.legend()\n",
    "plt.figure()\n",
    "\n",
    "plt.plot(epochs, loss, 'r', label='Training Loss')\n",
    "plt.plot(epochs, val_loss, 'b', label='Validation Loss')\n",
    "plt.title('Training and validation loss')\n",
    "plt.legend()\n",
    "\n",
    "plt.show()"
   ]
  }
 ],
 "metadata": {
  "colab": {
   "name": "Exercise 8 - Question.ipynb",
   "provenance": [],
   "version": "0.3.2"
  },
  "kernelspec": {
   "display_name": "Python 3",
   "language": "python",
   "name": "python3"
  },
  "language_info": {
   "codemirror_mode": {
    "name": "ipython",
    "version": 3
   },
   "file_extension": ".py",
   "mimetype": "text/x-python",
   "name": "python",
   "nbconvert_exporter": "python",
   "pygments_lexer": "ipython3",
   "version": "3.6.10"
  }
 },
 "nbformat": 4,
 "nbformat_minor": 1
}
