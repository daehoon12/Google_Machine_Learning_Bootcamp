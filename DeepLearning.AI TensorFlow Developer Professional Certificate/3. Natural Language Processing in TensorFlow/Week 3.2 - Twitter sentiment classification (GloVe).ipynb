{
  "nbformat": 4,
  "nbformat_minor": 0,
  "metadata": {
    "colab": {
      "name": "NLP Course - Week 3 Exercise Question.ipynb",
      "version": "0.3.2",
      "provenance": []
    },
    "kernelspec": {
      "name": "python3",
      "display_name": "Python 3"
    },
    "accelerator": "GPU"
  },
  "cells": [
    {
      "cell_type": "code",
      "metadata": {
        "id": "hmA6EzkQJ5jt",
        "colab_type": "code",
        "colab": {}
      },
      "source": [
        "import json\n",
        "import tensorflow as tf\n",
        "import csv\n",
        "import random\n",
        "import numpy as np\n",
        "\n",
        "from tensorflow.keras.preprocessing.text import Tokenizer\n",
        "from tensorflow.keras.preprocessing.sequence import pad_sequences\n",
        "from tensorflow.keras.utils import to_categorical\n",
        "from tensorflow.keras import regularizers\n",
        "\n",
        "\n",
        "embedding_dim = 100\n",
        "max_length = 16\n",
        "trunc_type='post'\n",
        "padding_type='post'\n",
        "oov_tok = \"<OOV>\"\n",
        "training_size= 160000\n",
        "test_portion=.1\n",
        "\n",
        "corpus = []\n"
      ],
      "execution_count": 0,
      "outputs": []
    },
    {
      "cell_type": "code",
      "metadata": {
        "id": "bM0l_dORKqE0",
        "colab_type": "code",
        "outputId": "271f4a06-b288-47ab-b707-5dc6525c4aff",
        "colab": {
          "base_uri": "https://localhost:8080/",
          "height": 204
        }
      },
      "source": [
        "\n",
        "# Note that I cleaned the Stanford dataset to remove LATIN1 encoding to make it easier for Python CSV reader\n",
        "# You can do that yourself with:\n",
        "# iconv -f LATIN1 -t UTF8 training.1600000.processed.noemoticon.csv -o training_cleaned.csv\n",
        "# I then hosted it on my site to make it easier to use in this notebook\n",
        "\n",
        "!wget --no-check-certificate \\\n",
        "    https://storage.googleapis.com/laurencemoroney-blog.appspot.com/training_cleaned.csv \\\n",
        "    -O /tmp/training_cleaned.csv\n",
        "\n",
        "num_sentences = 0\n",
        "\n",
        "with open(\"/tmp/training_cleaned.csv\") as csvfile:\n",
        "    reader = csv.reader(csvfile, delimiter=',')\n",
        "    for row in reader:\n",
        "        list_item = []\n",
        "        list_item.append(row[5])\n",
        "        this_label = row[0]\n",
        "        if this_label == '0':\n",
        "            list_item.append(0)\n",
        "        else:\n",
        "            list_item.append(1)\n",
        "        num_sentences = num_sentences + 1\n",
        "        corpus.append(list_item)"
      ],
      "execution_count": 2,
      "outputs": [
        {
          "output_type": "stream",
          "text": [
            "--2019-08-02 12:42:20--  https://storage.googleapis.com/laurencemoroney-blog.appspot.com/training_cleaned.csv\n",
            "Resolving storage.googleapis.com (storage.googleapis.com)... 74.125.143.128, 2a00:1450:4013:c01::80\n",
            "Connecting to storage.googleapis.com (storage.googleapis.com)|74.125.143.128|:443... connected.\n",
            "HTTP request sent, awaiting response... 200 OK\n",
            "Length: 238942690 (228M) [application/octet-stream]\n",
            "Saving to: ‘/tmp/training_cleaned.csv’\n",
            "\n",
            "/tmp/training_clean 100%[===================>] 227.87M   142MB/s    in 1.6s    \n",
            "\n",
            "2019-08-02 12:42:22 (142 MB/s) - ‘/tmp/training_cleaned.csv’ saved [238942690/238942690]\n",
            "\n"
          ],
          "name": "stdout"
        }
      ]
    },
    {
      "cell_type": "code",
      "metadata": {
        "id": "3kxblBUjEUX-",
        "colab_type": "code",
        "outputId": "7381d265-3059-4fa4-b4b1-50429e76cffb",
        "colab": {
          "base_uri": "https://localhost:8080/",
          "height": 68
        }
      },
      "source": [
        "print(num_sentences)\n",
        "print(len(corpus))\n",
        "print(corpus[1])\n",
        "\n",
        "# Expected Output:\n",
        "# 1600000\n",
        "# 1600000\n",
        "# [\"is upset that he can't update his Facebook by texting it... and might cry as a result  School today also. Blah!\", 0]"
      ],
      "execution_count": 3,
      "outputs": [
        {
          "output_type": "stream",
          "text": [
            "1600000\n",
            "1600000\n",
            "[\"is upset that he can't update his Facebook by texting it... and might cry as a result  School today also. Blah!\", 0]\n"
          ],
          "name": "stdout"
        }
      ]
    },
    {
      "cell_type": "code",
      "metadata": {
        "id": "ohOGz24lsNAD",
        "colab_type": "code",
        "colab": {}
      },
      "source": [
        "sentences=[]\n",
        "labels=[]\n",
        "random.shuffle(corpus)\n",
        "for x in range(training_size):\n",
        "    sentences.append(corpus[x][0])\n",
        "    labels.append(corpus[x][1])\n",
        "\n",
        "\n",
        "tokenizer = Tokenizer()\n",
        "tokenizer.fit_on_texts(sentences)\n",
        "\n",
        "word_index = tokenizer.word_index\n",
        "vocab_size=len(word_index)\n",
        "\n",
        "sequences = tokenizer.texts_to_sequences(sentences)\n",
        "padded = pad_sequences(sequences, maxlen=max_length, padding=padding_type, truncating=trunc_type)\n",
        "\n",
        "split = int(test_portion * training_size)\n",
        "\n",
        "test_sequences = padded[0:split]\n",
        "training_sequences = padded[split:training_size]\n",
        "test_labels = labels[0:split]\n",
        "training_labels = labels[split:training_size]"
      ],
      "execution_count": 0,
      "outputs": []
    },
    {
      "cell_type": "code",
      "metadata": {
        "id": "gIrtRem1En3N",
        "colab_type": "code",
        "outputId": "d34f1ae9-f163-414b-f6c7-c3967576cfea",
        "colab": {
          "base_uri": "https://localhost:8080/",
          "height": 51
        }
      },
      "source": [
        "print(vocab_size)\n",
        "print(word_index['i'])\n",
        "# Expected Output\n",
        "# 138858\n",
        "# 1"
      ],
      "execution_count": 5,
      "outputs": [
        {
          "output_type": "stream",
          "text": [
            "138713\n",
            "1\n"
          ],
          "name": "stdout"
        }
      ]
    },
    {
      "cell_type": "code",
      "metadata": {
        "id": "mIO2FSjFW0xH",
        "colab_type": "code",
        "colab": {
          "base_uri": "https://localhost:8080/",
          "height": 204
        },
        "outputId": "e72ea8b3-01dd-4061-d82d-afc119b0a8f0"
      },
      "source": [
        "# Get the 100 dimension version of GloVe from Stanford\n",
        "\n",
        "!wget --no-check-certificate \\\n",
        "    https://storage.googleapis.com/laurencemoroney-blog.appspot.com/glove.6B.100d.txt \\\n",
        "    -O /tmp/glove.6B.100d.txt"
      ],
      "execution_count": 7,
      "outputs": [
        {
          "output_type": "stream",
          "text": [
            "--2019-08-02 12:43:34--  https://storage.googleapis.com/laurencemoroney-blog.appspot.com/glove.6B.100d.txt\n",
            "Resolving storage.googleapis.com (storage.googleapis.com)... 74.125.143.128, 2a00:1450:4013:c03::80\n",
            "Connecting to storage.googleapis.com (storage.googleapis.com)|74.125.143.128|:443... connected.\n",
            "HTTP request sent, awaiting response... 200 OK\n",
            "Length: 347116733 (331M) [text/plain]\n",
            "Saving to: ‘/tmp/glove.6B.100d.txt’\n",
            "\n",
            "/tmp/glove.6B.100d. 100%[===================>] 331.04M   133MB/s    in 2.5s    \n",
            "\n",
            "2019-08-02 12:43:37 (133 MB/s) - ‘/tmp/glove.6B.100d.txt’ saved [347116733/347116733]\n",
            "\n"
          ],
          "name": "stdout"
        }
      ]
    },
    {
      "cell_type": "code",
      "metadata": {
        "id": "C1zdgJkusRh0",
        "colab_type": "code",
        "colab": {}
      },
      "source": [
        "embeddings_index = {}\n",
        "\n",
        "with open('/tmp/glove.6B.100d.txt') as f:\n",
        "    for line in f:\n",
        "        values = line.split()\n",
        "        word = values[0]\n",
        "        coefs = np.asarray(values[1:], dtype='float32')\n",
        "        embeddings_index[word] = coefs\n",
        "\n",
        "embeddings_matrix = np.zeros((vocab_size+1, embedding_dim))\n",
        "\n",
        "for word, i in word_index.items():\n",
        "    embedding_vector = embeddings_index.get(word)\n",
        "    if embedding_vector is not None:\n",
        "        embeddings_matrix[i] = embedding_vector"
      ],
      "execution_count": 0,
      "outputs": []
    },
    {
      "cell_type": "code",
      "metadata": {
        "id": "71NLk_lpFLNt",
        "colab_type": "code",
        "outputId": "5f9555d9-7fe9-42af-9e77-d59bf25814f5",
        "colab": {
          "base_uri": "https://localhost:8080/",
          "height": 34
        }
      },
      "source": [
        "print(len(embeddings_matrix))\n",
        "# Expected Output\n",
        "# 138859"
      ],
      "execution_count": 10,
      "outputs": [
        {
          "output_type": "stream",
          "text": [
            "138714\n"
          ],
          "name": "stdout"
        }
      ]
    },
    {
      "cell_type": "code",
      "metadata": {
        "colab_type": "code",
        "id": "iKKvbuEBOGFz",
        "colab": {
          "base_uri": "https://localhost:8080/",
          "height": 1000
        },
        "outputId": "d86decd8-bc9b-4072-d138-95c0674f9b22"
      },
      "source": [
        "model = tf.keras.Sequential([\n",
        "    tf.keras.layers.Embedding(vocab_size+1, embedding_dim, input_length=max_length, weights=[embeddings_matrix], trainable=False),\n",
        "    tf.keras.layers.Dropout(0.2),\n",
        "    tf.keras.layers.Conv1D(64, 5, activation='relu'),\n",
        "    tf.keras.layers.MaxPooling1D(pool_size=4),\n",
        "    tf.keras.layers.GlobalAveragePooling1D(),\n",
        "    tf.keras.layers.Dense(128, activation='relu'),\n",
        "    tf.keras.layers.Dense(1, activation='sigmoid')\n",
        "])\n",
        "model.compile(loss='binary_crossentropy',optimizer='adam',metrics=['accuracy'])\n",
        "model.summary()\n",
        "\n",
        "num_epochs = 50\n",
        "history = model.fit(training_sequences, training_labels, epochs=num_epochs, validation_data=(test_sequences, test_labels), verbose=2)\n",
        "\n",
        "print(\"Training Complete\")\n"
      ],
      "execution_count": 14,
      "outputs": [
        {
          "output_type": "stream",
          "text": [
            "Model: \"sequential_2\"\n",
            "_________________________________________________________________\n",
            "Layer (type)                 Output Shape              Param #   \n",
            "=================================================================\n",
            "embedding_2 (Embedding)      (None, 16, 100)           13871400  \n",
            "_________________________________________________________________\n",
            "dropout_2 (Dropout)          (None, 16, 100)           0         \n",
            "_________________________________________________________________\n",
            "conv1d_2 (Conv1D)            (None, 12, 64)            32064     \n",
            "_________________________________________________________________\n",
            "max_pooling1d_2 (MaxPooling1 (None, 3, 64)             0         \n",
            "_________________________________________________________________\n",
            "global_average_pooling1d (Gl (None, 64)                0         \n",
            "_________________________________________________________________\n",
            "dense_3 (Dense)              (None, 128)               8320      \n",
            "_________________________________________________________________\n",
            "dense_4 (Dense)              (None, 1)                 129       \n",
            "=================================================================\n",
            "Total params: 13,911,913\n",
            "Trainable params: 40,513\n",
            "Non-trainable params: 13,871,400\n",
            "_________________________________________________________________\n",
            "Train on 144000 samples, validate on 16000 samples\n",
            "Epoch 1/50\n",
            "144000/144000 - 14s - loss: 0.5741 - acc: 0.6932 - val_loss: 0.5447 - val_acc: 0.7168\n",
            "Epoch 2/50\n",
            "144000/144000 - 14s - loss: 0.5364 - acc: 0.7252 - val_loss: 0.5255 - val_acc: 0.7338\n",
            "Epoch 3/50\n",
            "144000/144000 - 14s - loss: 0.5210 - acc: 0.7364 - val_loss: 0.5106 - val_acc: 0.7458\n",
            "Epoch 4/50\n",
            "144000/144000 - 14s - loss: 0.5102 - acc: 0.7446 - val_loss: 0.5128 - val_acc: 0.7448\n",
            "Epoch 5/50\n",
            "144000/144000 - 14s - loss: 0.5029 - acc: 0.7493 - val_loss: 0.5045 - val_acc: 0.7507\n",
            "Epoch 6/50\n",
            "144000/144000 - 14s - loss: 0.4959 - acc: 0.7529 - val_loss: 0.5022 - val_acc: 0.7525\n",
            "Epoch 7/50\n",
            "144000/144000 - 14s - loss: 0.4913 - acc: 0.7576 - val_loss: 0.5028 - val_acc: 0.7521\n",
            "Epoch 8/50\n",
            "144000/144000 - 14s - loss: 0.4859 - acc: 0.7603 - val_loss: 0.5010 - val_acc: 0.7492\n",
            "Epoch 9/50\n",
            "144000/144000 - 14s - loss: 0.4812 - acc: 0.7630 - val_loss: 0.5004 - val_acc: 0.7540\n",
            "Epoch 10/50\n",
            "144000/144000 - 14s - loss: 0.4786 - acc: 0.7643 - val_loss: 0.4984 - val_acc: 0.7560\n",
            "Epoch 11/50\n",
            "144000/144000 - 14s - loss: 0.4753 - acc: 0.7680 - val_loss: 0.5031 - val_acc: 0.7489\n",
            "Epoch 12/50\n",
            "144000/144000 - 14s - loss: 0.4713 - acc: 0.7687 - val_loss: 0.5047 - val_acc: 0.7509\n",
            "Epoch 13/50\n",
            "144000/144000 - 14s - loss: 0.4706 - acc: 0.7708 - val_loss: 0.4976 - val_acc: 0.7551\n",
            "Epoch 14/50\n",
            "144000/144000 - 14s - loss: 0.4679 - acc: 0.7709 - val_loss: 0.4980 - val_acc: 0.7539\n",
            "Epoch 15/50\n",
            "144000/144000 - 14s - loss: 0.4658 - acc: 0.7730 - val_loss: 0.4952 - val_acc: 0.7549\n",
            "Epoch 16/50\n",
            "144000/144000 - 14s - loss: 0.4613 - acc: 0.7752 - val_loss: 0.4979 - val_acc: 0.7561\n",
            "Epoch 17/50\n",
            "144000/144000 - 14s - loss: 0.4612 - acc: 0.7755 - val_loss: 0.5011 - val_acc: 0.7545\n",
            "Epoch 18/50\n",
            "144000/144000 - 14s - loss: 0.4591 - acc: 0.7782 - val_loss: 0.5013 - val_acc: 0.7527\n",
            "Epoch 19/50\n",
            "144000/144000 - 14s - loss: 0.4588 - acc: 0.7770 - val_loss: 0.4976 - val_acc: 0.7543\n",
            "Epoch 20/50\n",
            "144000/144000 - 14s - loss: 0.4569 - acc: 0.7793 - val_loss: 0.4983 - val_acc: 0.7567\n",
            "Epoch 21/50\n",
            "144000/144000 - 14s - loss: 0.4546 - acc: 0.7796 - val_loss: 0.5002 - val_acc: 0.7544\n",
            "Epoch 22/50\n",
            "144000/144000 - 14s - loss: 0.4535 - acc: 0.7813 - val_loss: 0.5054 - val_acc: 0.7534\n",
            "Epoch 23/50\n",
            "144000/144000 - 14s - loss: 0.4524 - acc: 0.7810 - val_loss: 0.5073 - val_acc: 0.7504\n",
            "Epoch 24/50\n",
            "144000/144000 - 14s - loss: 0.4503 - acc: 0.7835 - val_loss: 0.4986 - val_acc: 0.7550\n",
            "Epoch 25/50\n",
            "144000/144000 - 14s - loss: 0.4501 - acc: 0.7827 - val_loss: 0.5036 - val_acc: 0.7499\n",
            "Epoch 26/50\n",
            "144000/144000 - 14s - loss: 0.4491 - acc: 0.7850 - val_loss: 0.4993 - val_acc: 0.7539\n",
            "Epoch 27/50\n",
            "144000/144000 - 14s - loss: 0.4481 - acc: 0.7838 - val_loss: 0.4993 - val_acc: 0.7540\n",
            "Epoch 28/50\n",
            "144000/144000 - 14s - loss: 0.4466 - acc: 0.7842 - val_loss: 0.5039 - val_acc: 0.7539\n",
            "Epoch 29/50\n",
            "144000/144000 - 14s - loss: 0.4461 - acc: 0.7854 - val_loss: 0.5041 - val_acc: 0.7548\n",
            "Epoch 30/50\n",
            "144000/144000 - 14s - loss: 0.4459 - acc: 0.7847 - val_loss: 0.5021 - val_acc: 0.7579\n",
            "Epoch 31/50\n",
            "144000/144000 - 14s - loss: 0.4454 - acc: 0.7855 - val_loss: 0.5021 - val_acc: 0.7529\n",
            "Epoch 32/50\n",
            "144000/144000 - 14s - loss: 0.4433 - acc: 0.7867 - val_loss: 0.5016 - val_acc: 0.7538\n",
            "Epoch 33/50\n",
            "144000/144000 - 14s - loss: 0.4441 - acc: 0.7870 - val_loss: 0.5061 - val_acc: 0.7551\n",
            "Epoch 34/50\n",
            "144000/144000 - 14s - loss: 0.4420 - acc: 0.7875 - val_loss: 0.5023 - val_acc: 0.7568\n",
            "Epoch 35/50\n",
            "144000/144000 - 14s - loss: 0.4424 - acc: 0.7879 - val_loss: 0.5050 - val_acc: 0.7535\n",
            "Epoch 36/50\n",
            "144000/144000 - 14s - loss: 0.4424 - acc: 0.7881 - val_loss: 0.5065 - val_acc: 0.7561\n",
            "Epoch 37/50\n",
            "144000/144000 - 14s - loss: 0.4411 - acc: 0.7881 - val_loss: 0.5079 - val_acc: 0.7554\n",
            "Epoch 38/50\n",
            "144000/144000 - 14s - loss: 0.4392 - acc: 0.7890 - val_loss: 0.5094 - val_acc: 0.7529\n",
            "Epoch 39/50\n",
            "144000/144000 - 14s - loss: 0.4387 - acc: 0.7897 - val_loss: 0.5080 - val_acc: 0.7528\n",
            "Epoch 40/50\n",
            "144000/144000 - 14s - loss: 0.4386 - acc: 0.7900 - val_loss: 0.5043 - val_acc: 0.7520\n",
            "Epoch 41/50\n",
            "144000/144000 - 14s - loss: 0.4374 - acc: 0.7892 - val_loss: 0.5137 - val_acc: 0.7477\n",
            "Epoch 42/50\n",
            "144000/144000 - 14s - loss: 0.4362 - acc: 0.7905 - val_loss: 0.5046 - val_acc: 0.7563\n",
            "Epoch 43/50\n",
            "144000/144000 - 14s - loss: 0.4365 - acc: 0.7904 - val_loss: 0.5230 - val_acc: 0.7436\n",
            "Epoch 44/50\n",
            "144000/144000 - 14s - loss: 0.4361 - acc: 0.7895 - val_loss: 0.5069 - val_acc: 0.7580\n",
            "Epoch 45/50\n",
            "144000/144000 - 14s - loss: 0.4361 - acc: 0.7911 - val_loss: 0.5137 - val_acc: 0.7539\n",
            "Epoch 46/50\n",
            "144000/144000 - 14s - loss: 0.4335 - acc: 0.7928 - val_loss: 0.5088 - val_acc: 0.7534\n",
            "Epoch 47/50\n",
            "144000/144000 - 14s - loss: 0.4356 - acc: 0.7910 - val_loss: 0.5133 - val_acc: 0.7514\n",
            "Epoch 48/50\n",
            "144000/144000 - 14s - loss: 0.4343 - acc: 0.7920 - val_loss: 0.5194 - val_acc: 0.7496\n",
            "Epoch 49/50\n",
            "144000/144000 - 14s - loss: 0.4333 - acc: 0.7921 - val_loss: 0.5116 - val_acc: 0.7526\n",
            "Epoch 50/50\n",
            "144000/144000 - 14s - loss: 0.4339 - acc: 0.7917 - val_loss: 0.5061 - val_acc: 0.7544\n",
            "Training Complete\n"
          ],
          "name": "stdout"
        }
      ]
    },
    {
      "cell_type": "code",
      "metadata": {
        "id": "qxju4ItJKO8F",
        "colab_type": "code",
        "colab": {
          "base_uri": "https://localhost:8080/",
          "height": 607
        },
        "outputId": "209453ef-899b-4002-b827-0b47c60b0f63"
      },
      "source": [
        "import matplotlib.image  as mpimg\n",
        "import matplotlib.pyplot as plt\n",
        "\n",
        "#-----------------------------------------------------------\n",
        "# Retrieve a list of list results on training and test data\n",
        "# sets for each training epoch\n",
        "#-----------------------------------------------------------\n",
        "acc=history.history['acc']\n",
        "val_acc=history.history['val_acc']\n",
        "loss=history.history['loss']\n",
        "val_loss=history.history['val_loss']\n",
        "\n",
        "epochs=range(len(acc)) # Get number of epochs\n",
        "\n",
        "#------------------------------------------------\n",
        "# Plot training and validation accuracy per epoch\n",
        "#------------------------------------------------\n",
        "plt.plot(epochs, acc, 'r')\n",
        "plt.plot(epochs, val_acc, 'b')\n",
        "plt.title('Training and validation accuracy')\n",
        "plt.xlabel(\"Epochs\")\n",
        "plt.ylabel(\"Accuracy\")\n",
        "plt.legend([\"Accuracy\", \"Validation Accuracy\"])\n",
        "\n",
        "plt.figure()\n",
        "\n",
        "#------------------------------------------------\n",
        "# Plot training and validation loss per epoch\n",
        "#------------------------------------------------\n",
        "plt.plot(epochs, loss, 'r')\n",
        "plt.plot(epochs, val_loss, 'b')\n",
        "plt.title('Training and validation loss')\n",
        "plt.xlabel(\"Epochs\")\n",
        "plt.ylabel(\"Loss\")\n",
        "plt.legend([\"Loss\", \"Validation Loss\"])\n",
        "\n",
        "plt.figure()\n",
        "\n",
        "\n",
        "# Expected Output\n",
        "# A chart where the validation loss does not increase sharply!"
      ],
      "execution_count": 15,
      "outputs": [
        {
          "output_type": "execute_result",
          "data": {
            "text/plain": [
              "<Figure size 432x288 with 0 Axes>"
            ]
          },
          "metadata": {
            "tags": []
          },
          "execution_count": 15
        },
        {
          "output_type": "display_data",
          "data": {
            "image/png": "[encoded data removed]",
            "text/plain": [
              "<Figure size 432x288 with 1 Axes>"
            ]
          },
          "metadata": {
            "tags": []
          }
        },
        {
          "output_type": "display_data",
          "data": {
            "image/png": "[encoded data removed]",
            "text/plain": [
              "<Figure size 432x288 with 1 Axes>"
            ]
          },
          "metadata": {
            "tags": []
          }
        },
        {
          "output_type": "display_data",
          "data": {
            "text/plain": [
              "<Figure size 432x288 with 0 Axes>"
            ]
          },
          "metadata": {
            "tags": []
          }
        }
      ]
    }
  ]
}