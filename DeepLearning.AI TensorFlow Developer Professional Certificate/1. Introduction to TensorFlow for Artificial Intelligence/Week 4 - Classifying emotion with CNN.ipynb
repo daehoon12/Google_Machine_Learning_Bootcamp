{
 "cells": [
  {
   "cell_type": "markdown",
   "metadata": {
    "colab_type": "text",
    "id": "UncprnB0ymAE"
   },
   "source": [
    "Below is code with a link to a happy or sad dataset which contains 80 images, 40 happy and 40 sad. \n",
    "Create a convolutional neural network that trains to 100% accuracy on these images,  which cancels training upon hitting training accuracy of >.999\n",
    "\n",
    "Hint -- it will work best with 3 convolutional layers."
   ]
  },
  {
   "cell_type": "code",
   "execution_count": 17,
   "metadata": {
    "colab": {
     "base_uri": "https://localhost:8080/",
     "height": 204
    },
    "colab_type": "code",
    "id": "7Vti6p3PxmpS",
    "outputId": "4593bcdd-ab44-4e45-8340-eee05c11c76b"
   },
   "outputs": [
    {
     "name": "stdout",
     "output_type": "stream",
     "text": [
      "--2019-07-16 10:31:59--  https://storage.googleapis.com/laurencemoroney-blog.appspot.com/happy-or-sad.zip\n",
      "Resolving storage.googleapis.com (storage.googleapis.com)... 74.125.20.128, 2607:f8b0:400e:c08::80\n",
      "Connecting to storage.googleapis.com (storage.googleapis.com)|74.125.20.128|:443... connected.\n",
      "HTTP request sent, awaiting response... 200 OK\n",
      "Length: 2670333 (2.5M) [application/zip]\n",
      "Saving to: ‘/tmp/happy-or-sad.zip’\n",
      "\n",
      "\r",
      "/tmp/happy-or-sad.z   0%[                    ]       0  --.-KB/s               \r",
      "/tmp/happy-or-sad.z 100%[===================>]   2.55M  --.-KB/s    in 0.02s   \n",
      "\n",
      "2019-07-16 10:31:59 (145 MB/s) - ‘/tmp/happy-or-sad.zip’ saved [2670333/2670333]\n",
      "\n"
     ]
    }
   ],
   "source": [
    "import tensorflow as tf\n",
    "import os\n",
    "import zipfile\n",
    "\n",
    "\n",
    "DESIRED_ACCURACY = 0.999\n",
    "\n",
    "!wget --no-check-certificate \\\n",
    "    \"https://storage.googleapis.com/laurencemoroney-blog.appspot.com/happy-or-sad.zip\" \\\n",
    "    -O \"/tmp/happy-or-sad.zip\"\n",
    "\n",
    "zip_ref = zipfile.ZipFile(\"/tmp/happy-or-sad.zip\", 'r')\n",
    "zip_ref.extractall(\"/tmp/h-or-s\")\n",
    "zip_ref.close()\n",
    "\n",
    "class CustomCallbacks(tf.keras.callbacks.Callback):\n",
    "    def on_epoch_end(self, epoch, logs={}):\n",
    "      if(logs.get('acc')>DESIRED_ACCURACY):\n",
    "        print(\"\\n 99% acc reached\")\n",
    "        self.model.stop_training = True\n",
    "\n",
    "callbacks = CustomCallbacks()"
   ]
  },
  {
   "cell_type": "code",
   "execution_count": 0,
   "metadata": {
    "colab": {},
    "colab_type": "code",
    "id": "6DLGbXXI1j_V"
   },
   "outputs": [],
   "source": [
    "# This Code Block should Define and Compile the Model\n",
    "model = tf.keras.models.Sequential([\n",
    "    tf.keras.layers.Conv2D(64, (3,3), activation='relu', input_shape=(150,150,3)),\n",
    "    tf.keras.layers.MaxPooling2D(2,2),\n",
    "    tf.keras.layers.Conv2D(32, (3,3), activation='relu'),\n",
    "    tf.keras.layers.MaxPooling2D(2,2),\n",
    "    tf.keras.layers.Conv2D(32, (2,2), activation='relu'),\n",
    "    tf.keras.layers.MaxPooling2D(2,2),\n",
    "    tf.keras.layers.Flatten(),\n",
    "    tf.keras.layers.Dense(512, activation='relu'),\n",
    "    tf.keras.layers.Dense(128, activation='relu'),\n",
    "    tf.keras.layers.Dense(1, activation='sigmoid')\n",
    "])\n",
    "\n",
    "from tensorflow.keras.optimizers import RMSprop\n",
    "\n",
    "model.compile(\n",
    "    optimizer=RMSprop(),\n",
    "    loss='binary_crossentropy',\n",
    "    metrics=['accuracy']\n",
    ")"
   ]
  },
  {
   "cell_type": "code",
   "execution_count": 19,
   "metadata": {
    "colab": {
     "base_uri": "https://localhost:8080/",
     "height": 34
    },
    "colab_type": "code",
    "id": "4Ap9fUJE1vVu",
    "outputId": "90ba02b6-ef3d-4834-da9a-79b85c9faa19"
   },
   "outputs": [
    {
     "name": "stdout",
     "output_type": "stream",
     "text": [
      "Found 80 images belonging to 2 classes.\n"
     ]
    }
   ],
   "source": [
    "# This code block should create an instance of an ImageDataGenerator called train_datagen \n",
    "# And a train_generator by calling train_datagen.flow_from_directory\n",
    "\n",
    "from tensorflow.keras.preprocessing.image import ImageDataGenerator\n",
    "\n",
    "train_datagen = ImageDataGenerator(rescale=1/255)\n",
    "\n",
    "train_generator = train_datagen.flow_from_directory(\n",
    "    '/tmp/h-or-s',\n",
    "    target_size=(150, 150),\n",
    "    batch_size=64,\n",
    "    class_mode='binary'\n",
    ")\n",
    "\n",
    "# Expected output: 'Found 80 images belonging to 2 classes'"
   ]
  },
  {
   "cell_type": "code",
   "execution_count": 20,
   "metadata": {
    "colab": {
     "base_uri": "https://localhost:8080/",
     "height": 697
    },
    "colab_type": "code",
    "id": "48dLm13U1-Le",
    "outputId": "a4d61a17-bcb5-44ab-81ee-dc5a4291f679"
   },
   "outputs": [
    {
     "name": "stdout",
     "output_type": "stream",
     "text": [
      "Epoch 1/20\n",
      "2/2 [==============================] - 1s 426ms/step - loss: 1.3533 - acc: 0.4500\n",
      "Epoch 2/20\n",
      "2/2 [==============================] - 0s 105ms/step - loss: 0.7134 - acc: 0.5000\n",
      "Epoch 3/20\n",
      "2/2 [==============================] - 0s 103ms/step - loss: 0.6552 - acc: 0.8625\n",
      "Epoch 4/20\n",
      "2/2 [==============================] - 0s 90ms/step - loss: 0.9032 - acc: 0.4500\n",
      "Epoch 5/20\n",
      "2/2 [==============================] - 0s 94ms/step - loss: 0.6374 - acc: 0.7375\n",
      "Epoch 6/20\n",
      "2/2 [==============================] - 0s 102ms/step - loss: 0.5427 - acc: 0.9750\n",
      "Epoch 7/20\n",
      "2/2 [==============================] - 0s 91ms/step - loss: 0.6699 - acc: 0.5000\n",
      "Epoch 8/20\n",
      "2/2 [==============================] - 0s 99ms/step - loss: 0.4761 - acc: 0.7125\n",
      "Epoch 9/20\n",
      "2/2 [==============================] - 0s 106ms/step - loss: 1.1438 - acc: 0.7750\n",
      "Epoch 10/20\n",
      "2/2 [==============================] - 0s 101ms/step - loss: 0.3954 - acc: 0.9250\n",
      "Epoch 11/20\n",
      "2/2 [==============================] - 0s 94ms/step - loss: 0.2490 - acc: 0.9500\n",
      "Epoch 12/20\n",
      "2/2 [==============================] - 0s 97ms/step - loss: 0.3367 - acc: 0.8875\n",
      "Epoch 13/20\n",
      "2/2 [==============================] - 0s 92ms/step - loss: 0.3098 - acc: 0.8000\n",
      "Epoch 14/20\n",
      "2/2 [==============================] - 0s 105ms/step - loss: 0.1232 - acc: 0.9500\n",
      "Epoch 15/20\n",
      "2/2 [==============================] - 0s 96ms/step - loss: 0.1163 - acc: 0.9875\n",
      "Epoch 16/20\n",
      "2/2 [==============================] - 0s 97ms/step - loss: 0.0625 - acc: 0.9750\n",
      "Epoch 17/20\n",
      "2/2 [==============================] - 0s 98ms/step - loss: 0.1005 - acc: 0.9750\n",
      "Epoch 18/20\n",
      "2/2 [==============================] - 0s 95ms/step - loss: 0.0995 - acc: 0.9875\n",
      "Epoch 19/20\n",
      "1/2 [==============>...............] - ETA: 0s - loss: 0.0202 - acc: 1.0000\n",
      " 99% acc reached\n",
      "2/2 [==============================] - 0s 100ms/step - loss: 0.0245 - acc: 1.0000\n"
     ]
    }
   ],
   "source": [
    "# This code block should call model.fit_generator and train for\n",
    "# a number of epochs. \n",
    "history = model.fit_generator(\n",
    "    train_generator,\n",
    "    epochs=20,\n",
    "    callbacks=[callbacks]\n",
    ")\n",
    "    \n",
    "# Expected output: \"Reached 99.9% accuracy so cancelling training!\"\""
   ]
  }
 ],
 "metadata": {
  "accelerator": "GPU",
  "colab": {
   "name": "Exercise4-Question.ipynb",
   "provenance": [],
   "version": "0.3.2"
  },
  "kernelspec": {
   "display_name": "Python 3",
   "language": "python",
   "name": "python3"
  },
  "language_info": {
   "codemirror_mode": {
    "name": "ipython",
    "version": 3
   },
   "file_extension": ".py",
   "mimetype": "text/x-python",
   "name": "python",
   "nbconvert_exporter": "python",
   "pygments_lexer": "ipython3",
   "version": "3.7.3"
  }
 },
 "nbformat": 4,
 "nbformat_minor": 1
}
